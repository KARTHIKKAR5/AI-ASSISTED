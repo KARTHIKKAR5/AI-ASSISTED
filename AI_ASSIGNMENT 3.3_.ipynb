{
  "nbformat": 4,
  "nbformat_minor": 0,
  "metadata": {
    "colab": {
      "provenance": [],
      "authorship_tag": "ABX9TyMIAp2Gz+uI3sP8WWJoNcl7",
      "include_colab_link": true
    },
    "kernelspec": {
      "name": "python3",
      "display_name": "Python 3"
    },
    "language_info": {
      "name": "python"
    }
  },
  "cells": [
    {
      "cell_type": "markdown",
      "metadata": {
        "id": "view-in-github",
        "colab_type": "text"
      },
      "source": [
        "<a href=\"https://colab.research.google.com/github/KARTHIKKAR5/AI-ASSISTED/blob/main/AI_ASSIGNMENT%203.3_.ipynb\" target=\"_parent\"><img src=\"https://colab.research.google.com/assets/colab-badge.svg\" alt=\"Open In Colab\"/></a>"
      ]
    },
    {
      "cell_type": "code",
      "execution_count": null,
      "metadata": {
        "id": "FwC4RWC1OPvN"
      },
      "outputs": [],
      "source": []
    },
    {
      "cell_type": "markdown",
      "source": [
        "# • Try 3 different prompts to generate a factorial function"
      ],
      "metadata": {
        "id": "ovGA5YxSORtk"
      }
    },
    {
      "cell_type": "markdown",
      "source": [
        "1ST PROPMT Write a Python program that defines a function factorial(n) which returns the factorial of n using a for loop. The program should read a number from the user, call the function, and print the result."
      ],
      "metadata": {
        "id": "GjJWY56HOYOm"
      }
    },
    {
      "cell_type": "code",
      "metadata": {
        "colab": {
          "base_uri": "https://localhost:8080/"
        },
        "id": "fefaf68e",
        "outputId": "1b407eda-6322-419b-9bc4-84b6384a7432"
      },
      "source": [
        "def factorial(n):\n",
        "  \"\"\"\n",
        "  Calculates the factorial of a non-negative integer using a for loop.\n",
        "\n",
        "  Args:\n",
        "    n: A non-negative integer.\n",
        "\n",
        "  Returns:\n",
        "    The factorial of n.\n",
        "  \"\"\"\n",
        "  if n < 0:\n",
        "    return \"Factorial is not defined for negative numbers\"\n",
        "  elif n == 0:\n",
        "    return 1\n",
        "  else:\n",
        "    result = 1\n",
        "    for i in range(1, n + 1):\n",
        "      result *= i\n",
        "    return result\n",
        "\n",
        "# Read a number from the user\n",
        "num = int(input(\"Enter a non-negative integer: \"))\n",
        "\n",
        "# Call the function and print the result\n",
        "print(f\"The factorial of {num} is {factorial(num)}\")"
      ],
      "execution_count": 1,
      "outputs": [
        {
          "output_type": "stream",
          "name": "stdout",
          "text": [
            "Enter a non-negative integer: 5\n",
            "The factorial of 5 is 120\n"
          ]
        }
      ]
    },
    {
      "cell_type": "markdown",
      "source": [],
      "metadata": {
        "id": "EiHyRR7_Ojq9"
      }
    },
    {
      "cell_type": "markdown",
      "source": [
        "This Python code calculates the factorial of a non-negative number. It defines a function that handles negative inputs and 0, and uses a for loop to multiply numbers from 1 up to the input number. Finally, it prompts the user for input, calls the function, and prints the calculated factorial."
      ],
      "metadata": {
        "id": "8GxCYKK0Omlp"
      }
    },
    {
      "cell_type": "markdown",
      "source": [
        "2ND PROMPT Conceptual with Constraints\n",
        "\n",
        "Generate a Python function factorial that calculates the factorial of a given integer using recursion. The program must handle 0! as 1 and reject negative inputs with an error message. Provide an example of its usage."
      ],
      "metadata": {
        "id": "pEBROH0CO2Hv"
      }
    },
    {
      "cell_type": "code",
      "metadata": {
        "colab": {
          "base_uri": "https://localhost:8080/"
        },
        "id": "968d797b",
        "outputId": "4cdb36dd-31ad-405f-8564-40bbd89e845e"
      },
      "source": [
        "def factorial_recursive(n):\n",
        "  \"\"\"\n",
        "  Calculates the factorial of a non-negative integer using recursion.\n",
        "\n",
        "  Args:\n",
        "    n: A non-negative integer.\n",
        "\n",
        "  Returns:\n",
        "    The factorial of n.\n",
        "  \"\"\"\n",
        "  if n < 0:\n",
        "    return \"Factorial is not defined for negative numbers\"\n",
        "  elif n == 0:\n",
        "    return 1\n",
        "  else:\n",
        "    return n * factorial_recursive(n-1)\n",
        "\n",
        "# Example usage:\n",
        "num = int(input(\"Enter a non-negative integer: \"))\n",
        "print(f\"The factorial of {num} is {factorial_recursive(num)}\")"
      ],
      "execution_count": 2,
      "outputs": [
        {
          "output_type": "stream",
          "name": "stdout",
          "text": [
            "Enter a non-negative integer: 3\n",
            "The factorial of 3 is 6\n"
          ]
        }
      ]
    },
    {
      "cell_type": "markdown",
      "source": [
        "EXPLANATION This code calculates the factorial of a non-negative number using recursion. It calls itself repeatedly with smaller numbers until it reaches 0, then multiplies the results back up to find the factorial. It also handles negative inputs and the case of 0!."
      ],
      "metadata": {
        "id": "f59R6EZIPO4Y"
      }
    },
    {
      "cell_type": "markdown",
      "source": [
        "3RD PROPMT Real-World Scenario\n",
        "\n",
        "Imagine you are creating a Python utility for math students. Create a function factorial that computes the factorial of an integer using the while loop method. Ensure the code is efficient, readable, and has clear comments explaining each step."
      ],
      "metadata": {
        "id": "ONRrTuwcPRJu"
      }
    },
    {
      "cell_type": "code",
      "metadata": {
        "id": "42110e8f"
      },
      "source": [
        "def factorial_while(n):\n",
        "  \"\"\"\n",
        "  Calculates the factorial of a non-negative integer using a while loop.\n",
        "\n",
        "  Args:\n",
        "    n: A non-negative integer.\n",
        "\n",
        "  Returns:\n",
        "    The factorial of n.\n",
        "  \"\"\"\n",
        "  if n < 0:\n",
        "    return \"Factorial is not defined for negative numbers\"\n",
        "  elif n == 0:\n",
        "    return 1\n",
        "  else:\n",
        "    result = 1\n",
        "    i = 1\n",
        "    while i <= n:\n",
        "      result *= i\n",
        "      i += 1\n",
        "    return result\n",
        "\n",
        "# Example usage:\n",
        "num = int(input(\"Enter a non-negative integer: \"))\n",
        "print(f\"The factorial of {num} is {factorial_while(num)}\")"
      ],
      "execution_count": null,
      "outputs": []
    },
    {
      "cell_type": "markdown",
      "metadata": {
        "id": "8a3c2ed0"
      },
      "source": [
        "This code calculates the factorial of a non-negative number using a `while` loop. It handles negative inputs and the case of 0!. For positive numbers, it starts with a result of 1 and a counter `i` at 1. The `while` loop continues as long as `i` is less than or equal to the input number `n`. Inside the loop, the `result` is multiplied by the current value of `i`, and `i` is increased by 1. This process repeats until `i` is greater than `n`, at which point the final `result` is returned."
      ]
    },
    {
      "cell_type": "markdown",
      "source": [
        "Task Description#2\n",
        "# • Provide a clear example input-output prompt to generate a sorting function."
      ],
      "metadata": {
        "id": "9ngv3Gz1PeLG"
      }
    },
    {
      "cell_type": "markdown",
      "source": [
        "PROMPT Write a Python function sort_numbers(numbers) that takes a list of integers as input and returns the sorted list in ascending order.\n",
        "\n",
        "Example Input:\n",
        "[34, 1, 23, 4, 3, 8]\n",
        "Example Output:\n",
        "[1, 3, 4, 8, 23, 34]"
      ],
      "metadata": {
        "id": "eHEJqENEPkvq"
      }
    },
    {
      "cell_type": "code",
      "metadata": {
        "id": "f044be01"
      },
      "source": [
        "def sort_numbers(numbers):\n",
        "  \"\"\"\n",
        "  Sorts a list of integers in ascending order.\n",
        "\n",
        "  Args:\n",
        "    numbers: A list of integers.\n",
        "\n",
        "  Returns:\n",
        "    A new list containing the sorted integers.\n",
        "  \"\"\"\n",
        "  return sorted(numbers)\n",
        "\n",
        "# Example usage:\n",
        "input_list = [34, 1, 23, 4, 3, 8]\n",
        "sorted_list = sort_numbers(input_list)\n",
        "print(f\"Original list: {input_list}\")\n",
        "print(f\"Sorted list: {sorted_list}\")"
      ],
      "execution_count": null,
      "outputs": []
    },
    {
      "cell_type": "markdown",
      "metadata": {
        "id": "88816d9b"
      },
      "source": [
        "This code defines a function called `sort_numbers` that takes a list of numbers. It uses Python's built-in `sorted()` function to create a new list with the numbers arranged from smallest to largest. The original list remains unchanged."
      ]
    },
    {
      "cell_type": "markdown",
      "source": [
        "# Task Description#3\n",
        "• Start with the vague prompt “Generate python code to calculate power bill” and\n",
        "improve it step-by-step\n",
        "Expected Output#3\n",
        "# • Enhanced AI output with clearer prompts"
      ],
      "metadata": {
        "id": "q7iHjOvvPwr4"
      }
    },
    {
      "cell_type": "markdown",
      "source": [
        "PROMPT Write a Python program that asks the user for the number of electricity units consumed.\n",
        "\n",
        "First 100 units cost ₹3 per unit\n",
        "\n",
        "Next 100 units cost ₹5 per unit\n",
        "\n",
        "Remaining units cost ₹7 per unit\n",
        "\n",
        "Add a fixed charge of ₹50 to every bill\n",
        "The program should display the total bill amount."
      ],
      "metadata": {
        "id": "JFGf8CL0P9jX"
      }
    },
    {
      "cell_type": "code",
      "metadata": {
        "id": "03ba0d28"
      },
      "source": [
        "def calculate_bill(units):\n",
        "  \"\"\"\n",
        "  Calculates the electricity bill based on units consumed.\n",
        "\n",
        "  Args:\n",
        "    units: The number of electricity units consumed.\n",
        "\n",
        "  Returns:\n",
        "    The total bill amount.\n",
        "  \"\"\"\n",
        "  fixed_charge = 50\n",
        "  bill = fixed_charge\n",
        "\n",
        "  if units <= 100:\n",
        "    bill += units * 3\n",
        "  elif units <= 200:\n",
        "    bill += (100 * 3) + ((units - 100) * 5)\n",
        "  else:\n",
        "    bill += (100 * 3) + (100 * 5) + ((units - 200) * 7)\n",
        "\n",
        "  return bill\n",
        "\n",
        "# Get input from the user\n",
        "units_consumed = int(input(\"Enter the number of electricity units consumed: \"))\n",
        "\n",
        "# Calculate and display the bill\n",
        "total_bill = calculate_bill(units_consumed)\n",
        "print(f\"The total electricity bill is ₹{total_bill}\")"
      ],
      "execution_count": null,
      "outputs": []
    },
    {
      "cell_type": "markdown",
      "metadata": {
        "id": "dd7bac78"
      },
      "source": [
        "This code calculates an electricity bill based on how many units you use.\n",
        "\n",
        "Here's how it works:\n",
        "1.  It sets a `fixed_charge` of ₹50 that's added to every bill.\n",
        "2.  It checks the number of `units` you consumed:\n",
        "    *   If you used 100 units or less, it charges ₹3 per unit plus the fixed charge.\n",
        "    *   If you used between 101 and 200 units, it charges ₹3 for the first 100 units and ₹5 for the units over 100, plus the fixed charge.\n",
        "    *   If you used more than 200 units, it charges ₹3 for the first 100, ₹5 for the next 100, and ₹7 for any units over 200, plus the fixed charge.\n",
        "3.  Finally, it asks you how many units you used, calculates your bill using the rules above, and prints the total amount you owe."
      ]
    },
    {
      "cell_type": "markdown",
      "source": [
        "# Task Description#4\n",
        "• Write structured comments to help AI generate two linked functions (e.g., login_user()\n",
        "and register_user()).\n",
        "Expected Output#4\n",
        "• Consistent functions with shared logi"
      ],
      "metadata": {
        "id": "4DZvveWlQiLR"
      }
    },
    {
      "cell_type": "markdown",
      "source": [],
      "metadata": {
        "id": "EGOct7x5Qzx6"
      }
    },
    {
      "cell_type": "markdown",
      "source": [
        "PROMPT Write Python code with two linked functions:\n",
        "\n",
        "register_user(username, password) – stores a new user in a simple dictionary (username → password). It should:\n",
        "\n",
        "Check if the username already exists.\n",
        "\n",
        "Store the password securely (basic hashing with hashlib).\n",
        "\n",
        "Return a success or error message.\n",
        "\n",
        "login_user(username, password) – allows a registered user to log in. It should:\n",
        "\n",
        "Check if the username exists.\n",
        "\n",
        "Compare the hashed password with the stored hash.\n",
        "\n",
        "Return a success or error message.\n",
        "\n",
        "Both functions should share the same in-memory dictionary for user storage and use the same hashing logic to ensure consistency.\n",
        "Include a simple menu system in main() to register or log in.\n",
        "Add comments before each function explaining its purpose, inputs, and outputs."
      ],
      "metadata": {
        "id": "en8da6imQ2uU"
      }
    },
    {
      "cell_type": "code",
      "metadata": {
        "id": "e17018aa"
      },
      "source": [
        "import hashlib\n",
        "\n",
        "# In-memory dictionary to store users (username -> hashed_password)\n",
        "users_db = {}\n",
        "\n",
        "def hash_password(password):\n",
        "  \"\"\"\n",
        "  Hashes a password using SHA-256.\n",
        "\n",
        "  Args:\n",
        "    password: The password to hash (string).\n",
        "\n",
        "  Returns:\n",
        "    The hashed password (string).\n",
        "  \"\"\"\n",
        "  return hashlib.sha256(password.encode()).hexdigest()\n",
        "\n",
        "def register_user(username, password):\n",
        "  \"\"\"\n",
        "  Registers a new user.\n",
        "\n",
        "  Args:\n",
        "    username: The username for the new user (string).\n",
        "    password: The password for the new user (string).\n",
        "\n",
        "  Returns:\n",
        "    A success or error message (string).\n",
        "  \"\"\"\n",
        "  if username in users_db:\n",
        "    return \"Error: Username already exists.\"\n",
        "  else:\n",
        "    hashed_password = hash_password(password)\n",
        "    users_db[username] = hashed_password\n",
        "    return \"User registered successfully!\"\n",
        "\n",
        "def login_user(username, password):\n",
        "  \"\"\"\n",
        "  Logs in a registered user.\n",
        "\n",
        "  Args:\n",
        "    username: The username to log in (string).\n",
        "    password: The password for the user (string).\n",
        "\n",
        "  Returns:\n",
        "    A success or error message (string).\n",
        "  \"\"\"\n",
        "  if username not in users_db:\n",
        "    return \"Error: Username not found.\"\n",
        "  else:\n",
        "    hashed_password = hash_password(password)\n",
        "    if users_db[username] == hashed_password:\n",
        "      return \"Login successful!\"\n",
        "    else:\n",
        "      return \"Error: Incorrect password.\"\n",
        "\n",
        "def main():\n",
        "  \"\"\"\n",
        "  Simple menu system for user registration and login.\n",
        "  \"\"\"\n",
        "  while True:\n",
        "    print(\"\\nMenu:\")\n",
        "    print(\"1. Register\")\n",
        "    print(\"2. Login\")\n",
        "    print(\"3. Exit\")\n",
        "\n",
        "    choice = input(\"Enter your choice: \")\n",
        "\n",
        "    if choice == '1':\n",
        "      username = input(\"Enter username: \")\n",
        "      password = input(\"Enter password: \")\n",
        "      print(register_user(username, password))\n",
        "    elif choice == '2':\n",
        "      username = input(\"Enter username: \")\n",
        "      password = input(\"Enter password: \")\n",
        "      print(login_user(username, password))\n",
        "    elif choice == '3':\n",
        "      print(\"Exiting.\")\n",
        "      break\n",
        "    else:\n",
        "      print(\"Invalid choice. Please try again.\")\n",
        "\n",
        "if __name__ == \"__main__\":\n",
        "  main()"
      ],
      "execution_count": null,
      "outputs": []
    },
    {
      "cell_type": "markdown",
      "metadata": {
        "id": "ced3657c"
      },
      "source": [
        "This code provides a simple system for user registration and login.\n",
        "\n",
        "Here's a breakdown:\n",
        "\n",
        "1.  **`import hashlib`**: This imports the `hashlib` library, which is used for secure password hashing.\n",
        "2.  **`users_db = {}`**: This creates an empty dictionary called `users_db`. This dictionary will store the registered users, with usernames as keys and their hashed passwords as values. It's an in-memory storage, meaning the data is lost when the program stops.\n",
        "3.  **`hash_password(password)` function**: This function takes a password as input, encodes it, and then uses the SHA-256 algorithm from the `hashlib` library to create a secure hash of the password. It returns this hashed value.\n",
        "4.  **`register_user(username, password)` function**:\n",
        "    *   Takes a `username` and `password` as input.\n",
        "    *   Checks if the `username` already exists as a key in the `users_db` dictionary.\n",
        "    *   If the username exists, it returns an error message.\n",
        "    *   If the username doesn't exist, it hashes the password using the `hash_password` function and stores the username and the hashed password in the `users_db` dictionary.\n",
        "    *   It then returns a success message.\n",
        "5.  **`login_user(username, password)` function**:\n",
        "    *   Takes a `username` and `password` as input.\n",
        "    *   Checks if the `username` exists as a key in the `users_db` dictionary.\n",
        "    *   If the username doesn't exist, it returns an error message.\n",
        "    *   If the username exists, it hashes the provided password using the `hash_password` function and compares this new hash with the hashed password stored in `users_db` for that username.\n",
        "    *   If the hashes match, it means the password is correct, and it returns a success message.\n",
        "    *   If the hashes don't match, it returns an incorrect password error message.\n",
        "6.  **`main()` function**:\n",
        "    *   This function provides a simple text-based menu for the user.\n",
        "    *   It runs in a loop until the user chooses to exit.\n",
        "    *   Based on the user's choice (1 for Register, 2 for Login, 3 for Exit), it prompts for username and password and calls the appropriate function (`register_user` or `login_user`).\n",
        "    *   It then prints the message returned by the function.\n",
        "7.  **`if __name__ == \"__main__\": main()`**: This is a standard Python construct that ensures the `main()` function is called only when the script is executed directly (not when it's imported as a module into another script)."
      ]
    },
    {
      "cell_type": "markdown",
      "source": [
        "# Task Description#5\n",
        "• Analyzing Prompt Specificity: Improving Temperature Conversion Function with\n",
        "Clear Instructions\n",
        "Expected Output#5\n",
        "# • Code quality difference analysis for various **prompts**"
      ],
      "metadata": {
        "id": "1N_GL9MGRXBM"
      }
    },
    {
      "cell_type": "markdown",
      "source": [
        "PROMPT Compare Python code quality for the same task when given prompts with different specificity levels.\n",
        "\n",
        "Task: Write a Python function to convert between Celsius and Fahrenheit.\n",
        "\n",
        "Do the following:\n",
        "\n",
        "Show the result for a vague prompt: \"Generate Python code to convert temperature.\"\n",
        "\n",
        "Show the result for a moderately clear prompt: \"Write a Python function that takes a temperature in Celsius and returns the Fahrenheit equivalent.\"\n",
        "\n",
        "Show the result for a highly specific prompt: \"Write a Python function convert_temperature(value, unit)whereunitis'C'or'F'. If 'C', convert Celsius to Fahrenheit; if 'F', convert Fahrenheit to Celsius. Validate input, handle floats, round to 2 decimal places, and include docstrings and example usage.\"\n",
        "\n",
        "Compare and analyze how the level of prompt detail changes the code’s correctness, readability, and maintainability."
      ],
      "metadata": {
        "id": "Q8Bjod2vRa5m"
      }
    },
    {
      "cell_type": "markdown",
      "metadata": {
        "id": "fceb6c1d"
      },
      "source": [
        "# Task\n",
        "Compare Python code quality for the same task when given prompts with different specificity levels.\n",
        "\n",
        "Task: Write a Python function to convert between Celsius and Fahrenheit.\n",
        "\n",
        "Do the following:\n",
        "\n",
        "Show the result for a vague prompt: \"Generate Python code to convert temperature.\"\n",
        "\n",
        "Show the result for a moderately clear prompt: \"Write a Python function that takes a temperature in Celsius and returns the Fahrenheit equivalent.\"\n",
        "\n",
        "Show the result for a highly specific prompt: \"Write a Python function convert_temperature(value, unit)whereunitis'C'or'F'. If 'C', convert Celsius to Fahrenheit; if 'F', convert Fahrenheit to Celsius. Validate input, handle floats, round to 2 decimal places, and include docstrings and example usage.\"\n",
        "\n",
        "Compare and analyze how the level of prompt detail changes the code’s correctness, readability, and maintainability. AND EXPLAIN THE CODE IN SIMPLE YTERMS"
      ]
    },
    {
      "cell_type": "markdown",
      "metadata": {
        "id": "4a8536a1"
      },
      "source": [
        "## Generate code for vague prompt\n",
        "\n",
        "### Subtask:\n",
        "Generate Python code for the vague prompt \"Generate Python code to convert temperature.\"\n"
      ]
    },
    {
      "cell_type": "markdown",
      "metadata": {
        "id": "08f4d7b8"
      },
      "source": [
        "**Reasoning**:\n",
        "The task requires generating Python code based on a vague prompt. I will create a code block to generate a basic temperature conversion function based on the prompt \"Generate Python code to convert temperature.\".\n",
        "\n"
      ]
    },
    {
      "cell_type": "code",
      "metadata": {
        "colab": {
          "base_uri": "https://localhost:8080/"
        },
        "id": "d12880ce",
        "outputId": "97e60f8e-08e1-463d-ff79-faf4600305e8"
      },
      "source": [
        "def convert_temperature(temp):\n",
        "  \"\"\"\n",
        "  Converts temperature.\n",
        "\n",
        "  Args:\n",
        "    temp: The temperature value.\n",
        "\n",
        "  Returns:\n",
        "    The converted temperature.\n",
        "  \"\"\"\n",
        "  # The prompt is vague, so a simple conversion might be assumed.\n",
        "  # Let's assume it converts Celsius to Fahrenheit as a common case.\n",
        "  fahrenheit = (temp * 9/5) + 32\n",
        "  return fahrenheit\n",
        "\n",
        "# Example usage:\n",
        "celsius_temp = 25\n",
        "converted_temp = convert_temperature(celsius_temp)\n",
        "print(f\"{celsius_temp} Celsius is {converted_temp} Fahrenheit.\")\n"
      ],
      "execution_count": 3,
      "outputs": [
        {
          "output_type": "stream",
          "name": "stdout",
          "text": [
            "25 Celsius is 77.0 Fahrenheit.\n"
          ]
        }
      ]
    },
    {
      "cell_type": "markdown",
      "metadata": {
        "id": "5c36de43"
      },
      "source": [
        "## Explain vague prompt code\n",
        "\n",
        "### Subtask:\n",
        "Explain the generated code for the vague prompt in simple terms.\n"
      ]
    },
    {
      "cell_type": "markdown",
      "metadata": {
        "id": "5aa64640"
      },
      "source": [
        "**Reasoning**:\n",
        "Explain the generated code for the vague prompt in simple terms, covering its purpose, input, output, the conversion formula, and the example usage.\n",
        "\n"
      ]
    },
    {
      "cell_type": "code",
      "metadata": {
        "id": "f748e9ae"
      },
      "source": [
        "# Explanation of the code generated for the vague prompt: \"Generate Python code to convert temperature.\"\n",
        "\n",
        "# What the code does:\n",
        "# This code defines a function called `convert_temperature` that takes a number (presumably a temperature) and converts it.\n",
        "# Based on the code's logic, it assumes the input temperature is in Celsius and converts it to Fahrenheit.\n",
        "\n",
        "# How it works (the formula):\n",
        "# The code uses the standard formula to convert Celsius to Fahrenheit:\n",
        "# Fahrenheit = (Celsius * 9/5) + 32\n",
        "# It takes the input temperature, multiplies it by 9, divides the result by 5, and then adds 32.\n",
        "\n",
        "# Input and Output:\n",
        "# Input: The function expects a single number representing the temperature in Celsius.\n",
        "# Output: The function returns a single number representing the converted temperature in Fahrenheit.\n",
        "\n",
        "# Example Usage:\n",
        "# The example shows how to use the function.\n",
        "# It sets `celsius_temp` to 25.\n",
        "# It calls the `convert_temperature` function with 25 as the input.\n",
        "# The function calculates (25 * 9/5) + 32, which is 45 + 32 = 77.\n",
        "# The `converted_temp` variable stores the result, which is 77.0.\n",
        "# Finally, it prints a message stating that \"25 Celsius is 77.0 Fahrenheit.\""
      ],
      "execution_count": 4,
      "outputs": []
    },
    {
      "cell_type": "markdown",
      "metadata": {
        "id": "1fdc01b1"
      },
      "source": [
        "## Generate code for moderately clear prompt\n",
        "\n",
        "### Subtask:\n",
        "Generate Python code for the moderately clear prompt \"Write a Python function that takes a temperature in Celsius and returns the Fahrenheit equivalent.\"\n"
      ]
    },
    {
      "cell_type": "markdown",
      "metadata": {
        "id": "a3d83ff8"
      },
      "source": [
        "**Reasoning**:\n",
        "Generate the Python function for the moderately clear prompt, including the function definition, calculation, return statement, docstring, and example usage.\n",
        "\n"
      ]
    },
    {
      "cell_type": "code",
      "metadata": {
        "colab": {
          "base_uri": "https://localhost:8080/"
        },
        "id": "50d013a0",
        "outputId": "f9ab2235-9004-4e8f-ebbc-a3cf53b9f8bd"
      },
      "source": [
        "def celsius_to_fahrenheit(celsius_temp):\n",
        "  \"\"\"\n",
        "  Converts a temperature from Celsius to Fahrenheit.\n",
        "\n",
        "  Args:\n",
        "    celsius_temp: The temperature in Celsius (float or int).\n",
        "\n",
        "  Returns:\n",
        "    The equivalent temperature in Fahrenheit (float).\n",
        "  \"\"\"\n",
        "  fahrenheit = (celsius_temp * 9/5) + 32\n",
        "  return fahrenheit\n",
        "\n",
        "# Example usage:\n",
        "celsius_temp = 30\n",
        "converted_temp = celsius_to_fahrenheit(celsius_temp)\n",
        "print(f\"{celsius_temp} degrees Celsius is equal to {converted_temp} degrees Fahrenheit.\")"
      ],
      "execution_count": 5,
      "outputs": [
        {
          "output_type": "stream",
          "name": "stdout",
          "text": [
            "30 degrees Celsius is equal to 86.0 degrees Fahrenheit.\n"
          ]
        }
      ]
    },
    {
      "cell_type": "markdown",
      "metadata": {
        "id": "639f9f40"
      },
      "source": [
        "## Explain moderately clear prompt code\n",
        "\n",
        "### Subtask:\n",
        "Explain the generated code for the moderately clear prompt in simple terms.\n"
      ]
    },
    {
      "cell_type": "markdown",
      "metadata": {
        "id": "b263156f"
      },
      "source": [
        "**Reasoning**:\n",
        "Explain the generated code for the moderately clear prompt in simple terms, covering its purpose, the conversion formula, input/output, and the example usage.\n",
        "\n"
      ]
    },
    {
      "cell_type": "code",
      "metadata": {
        "id": "5ac860bb"
      },
      "source": [
        "# Explanation of the code generated for the moderately clear prompt: \"Write a Python function that takes a temperature in Celsius and returns the Fahrenheit equivalent.\"\n",
        "\n",
        "# What the code does:\n",
        "# This code defines a specific function called `celsius_to_fahrenheit`. Its only job is to take a temperature value that is in Celsius and turn it into the equivalent temperature in Fahrenheit.\n",
        "\n",
        "# How it works (the formula):\n",
        "# It uses the standard mathematical formula to convert Celsius to Fahrenheit:\n",
        "# Fahrenheit = (Celsius * 9/5) + 32\n",
        "# The function takes the Celsius temperature you give it (`celsius_temp`), multiplies it by 9/5 (which is 1.8), and then adds 32 to the result.\n",
        "\n",
        "# Input and Output:\n",
        "# Input: The function expects one number, which is the temperature in Celsius. This number can be a whole number (integer) or a number with a decimal point (float).\n",
        "# Output: The function returns one number, which is the converted temperature in Fahrenheit. This will likely be a number with a decimal point (float).\n",
        "\n",
        "# Example Usage:\n",
        "# The example code shows how to use the `celsius_to_fahrenheit` function.\n",
        "# First, it sets a variable `celsius_temp` to the value 30.\n",
        "# Then, it calls the `celsius_to_fahrenheit` function, passing 30 as the input.\n",
        "# Inside the function, the calculation (30 * 9/5) + 32 happens:\n",
        "# (30 * 1.8) + 32 = 54 + 32 = 86\n",
        "# The function returns 86.0, which is stored in the variable `converted_temp`.\n",
        "# Finally, the code prints a user-friendly message: \"30 degrees Celsius is equal to 86.0 degrees Fahrenheit.\""
      ],
      "execution_count": 6,
      "outputs": []
    },
    {
      "cell_type": "markdown",
      "metadata": {
        "id": "6b714084"
      },
      "source": [
        "## Generate code for highly specific prompt\n",
        "\n",
        "### Subtask:\n",
        "Generate Python code for the highly specific prompt \"Write a Python function convert_temperature(value, unit) where unit is 'C' or 'F'. If 'C', convert Celsius to Fahrenheit; if 'F', convert Fahrenheit to Celsius. Validate input, handle floats, round to 2 decimal places, and include docstrings and example usage.\"\n"
      ]
    },
    {
      "cell_type": "markdown",
      "metadata": {
        "id": "7b965441"
      },
      "source": [
        "**Reasoning**:\n",
        "Define the `convert_temperature` function with input validation, conversion logic for both Celsius and Fahrenheit, rounding, and include a docstring and example usage as specified in the highly specific prompt.\n",
        "\n"
      ]
    },
    {
      "cell_type": "code",
      "metadata": {
        "colab": {
          "base_uri": "https://localhost:8080/"
        },
        "id": "81b9424a",
        "outputId": "85868234-ec01-460d-9299-c2458ff12dab"
      },
      "source": [
        "def convert_temperature(value, unit):\n",
        "  \"\"\"\n",
        "  Converts temperature between Celsius and Fahrenheit.\n",
        "\n",
        "  Args:\n",
        "    value: The temperature value (integer or float).\n",
        "    unit: The unit of the input temperature ('C' for Celsius, 'F' for Fahrenheit).\n",
        "          Case-insensitive.\n",
        "\n",
        "  Returns:\n",
        "    The converted temperature rounded to 2 decimal places, or an error message\n",
        "    if input is invalid.\n",
        "  \"\"\"\n",
        "  # Validate input type for value\n",
        "  if not isinstance(value, (int, float)):\n",
        "    return \"Error: Temperature value must be a number.\"\n",
        "\n",
        "  # Validate input for unit\n",
        "  unit = unit.upper() # Make unit case-insensitive\n",
        "  if unit not in ['C', 'F']:\n",
        "    return \"Error: Unit must be 'C' for Celsius or 'F' for Fahrenheit.\"\n",
        "\n",
        "  # Perform conversion based on unit\n",
        "  if unit == 'C':\n",
        "    # Convert Celsius to Fahrenheit\n",
        "    converted_value = (value * 9/5) + 32\n",
        "  else: # unit == 'F'\n",
        "    # Convert Fahrenheit to Celsius\n",
        "    converted_value = (value - 32) * 5/9\n",
        "\n",
        "  # Round the result to 2 decimal places\n",
        "  rounded_value = round(converted_value, 2)\n",
        "\n",
        "  return rounded_value\n",
        "\n",
        "# Example usage:\n",
        "# Celsius to Fahrenheit\n",
        "celsius_value = 25.5\n",
        "fahrenheit_converted = convert_temperature(celsius_value, 'C')\n",
        "print(f\"{celsius_value}°C is {fahrenheit_converted}°F\")\n",
        "\n",
        "# Fahrenheit to Celsius\n",
        "fahrenheit_value = 77.9\n",
        "celsius_converted = convert_temperature(fahrenheit_value, 'F')\n",
        "print(f\"{fahrenheit_value}°F is {celsius_converted}°C\")\n",
        "\n",
        "# Example with invalid unit\n",
        "invalid_unit_result = convert_temperature(100, 'K')\n",
        "print(f\"Conversion with invalid unit: {invalid_unit_result}\")\n",
        "\n",
        "# Example with invalid value type\n",
        "invalid_value_result = convert_temperature(\"abc\", 'C')\n",
        "print(f\"Conversion with invalid value: {invalid_value_result}\")"
      ],
      "execution_count": 7,
      "outputs": [
        {
          "output_type": "stream",
          "name": "stdout",
          "text": [
            "25.5°C is 77.9°F\n",
            "77.9°F is 25.5°C\n",
            "Conversion with invalid unit: Error: Unit must be 'C' for Celsius or 'F' for Fahrenheit.\n",
            "Conversion with invalid value: Error: Temperature value must be a number.\n"
          ]
        }
      ]
    },
    {
      "cell_type": "markdown",
      "metadata": {
        "id": "1937a7b1"
      },
      "source": [
        "## Explain highly specific prompt code\n",
        "\n",
        "### Subtask:\n",
        "Explain the generated code for the highly specific prompt in simple terms.\n"
      ]
    },
    {
      "cell_type": "markdown",
      "metadata": {
        "id": "718fb3a4"
      },
      "source": [
        "**Reasoning**:\n",
        "Provide a simple explanation for the generated Python code, covering its purpose, input validation, conversion logic, rounding, docstring, and example usage.\n",
        "\n"
      ]
    },
    {
      "cell_type": "code",
      "metadata": {
        "id": "010cc83f"
      },
      "source": [
        "# Explanation of the code generated for the highly specific prompt:\n",
        "# \"Write a Python function convert_temperature(value, unit) where unit is 'C' or 'F'.\n",
        "# If 'C', convert Celsius to Fahrenheit; if 'F', convert Fahrenheit to Celsius.\n",
        "# Validate input, handle floats, round to 2 decimal places, and include docstrings and example usage.\"\n",
        "\n",
        "# What the code does:\n",
        "# This code defines a function called `convert_temperature` that is designed to convert a temperature value from either Celsius to Fahrenheit or Fahrenheit to Celsius. It's flexible because you tell it the original unit of the temperature you give it.\n",
        "\n",
        "# How it works:\n",
        "\n",
        "# 1. Taking Inputs:\n",
        "#    - The function takes two pieces of information: `value` (the temperature number itself) and `unit` (a letter, either 'C' for Celsius or 'F' for Fahrenheit, to tell the function which unit the `value` is currently in).\n",
        "\n",
        "# 2. Checking the Inputs (Validation):\n",
        "#    - The code first checks if the `value` you provided is actually a number (an integer or a float). If it's not a number (like text), it returns an error message.\n",
        "#    - It then checks if the `unit` you provided is either 'C' or 'F' (it doesn't matter if you use lowercase 'c' or 'f' because the code converts it to uppercase). If the unit is anything else, it returns an error message.\n",
        "\n",
        "# 3. Performing the Conversion:\n",
        "#    - If the inputs are valid, the code looks at the `unit`:\n",
        "#      - If the `unit` is 'C', it uses the formula to convert Celsius to Fahrenheit: (value * 9/5) + 32.\n",
        "#      - If the `unit` is 'F', it uses the formula to convert Fahrenheit to Celsius: (value - 32) * 5/9.\n",
        "\n",
        "# 4. Rounding the Result:\n",
        "#    - After calculating the converted temperature, the code rounds the result to two decimal places. This makes the output cleaner and easier to read.\n",
        "\n",
        "# 5. Returning the Result:\n",
        "#    - The function then gives back the rounded, converted temperature. If there was an input error, it returns the specific error message instead.\n",
        "\n",
        "# Understanding the Docstring:\n",
        "# - The text enclosed in triple quotes right after the function definition is called a docstring.\n",
        "# - It's like a built-in explanation for the function. It tells you:\n",
        "#   - What the function does (Converts temperature between Celsius and Fahrenheit).\n",
        "#   - What arguments it expects (`value` and `unit`), what types they should be, and what they represent.\n",
        "#   - What the function returns (the converted temperature or an error message).\n",
        "# - Docstrings are helpful for anyone reading the code (including yourself later!) or using tools that can show documentation.\n",
        "\n",
        "# Example Usage Walkthrough:\n",
        "# The examples show how to use the `convert_temperature` function and what to expect:\n",
        "\n",
        "# - Example 1: Converting Celsius to Fahrenheit\n",
        "#   - `celsius_value` is set to 25.5.\n",
        "#   - `convert_temperature(25.5, 'C')` is called.\n",
        "#   - The function sees 'C', applies the Celsius to Fahrenheit formula: (25.5 * 9/5) + 32 = 45.9 + 32 = 77.9.\n",
        "#   - It rounds 77.9 to 2 decimal places (still 77.90, but prints as 77.9).\n",
        "#   - The output is: \"25.5°C is 77.9°F\"\n",
        "\n",
        "# - Example 2: Converting Fahrenheit to Celsius\n",
        "#   - `fahrenheit_value` is set to 77.9.\n",
        "#   - `convert_temperature(77.9, 'F')` is called.\n",
        "#   - The function sees 'F', applies the Fahrenheit to Celsius formula: (77.9 - 32) * 5/9 = 45.9 * 5/9 = 25.5.\n",
        "#   - It rounds 25.5 to 2 decimal places (still 25.50, but prints as 25.5).\n",
        "#   - The output is: \"77.9°F is 25.5°C\"\n",
        "\n",
        "# - Example 3: Invalid Unit\n",
        "#   - `convert_temperature(100, 'K')` is called.\n",
        "#   - The function sees 'K' which is not 'C' or 'F'.\n",
        "#   - It triggers the unit validation error.\n",
        "#   - The output is: \"Conversion with invalid unit: Error: Unit must be 'C' for Celsius or 'F' for Fahrenheit.\"\n",
        "\n",
        "# - Example 4: Invalid Value Type\n",
        "#   - `convert_temperature(\"abc\", 'C')` is called.\n",
        "#   - The function sees \"abc\" which is not a number.\n",
        "#   - It triggers the value type validation error.\n",
        "#   - The output is: \"Conversion with invalid value: Error: Temperature value must be a number.\"\n",
        "\n",
        "# In summary, this function is well-written because the highly specific prompt guided the AI to include essential features like input validation, handling different cases (C to F and F to C), formatting the output (rounding), and providing clear documentation (docstring) and examples."
      ],
      "execution_count": 8,
      "outputs": []
    },
    {
      "cell_type": "markdown",
      "metadata": {
        "id": "205456c4"
      },
      "source": [
        "## Compare and analyze code quality\n",
        "\n",
        "### Subtask:\n",
        "Compare and analyze the code generated for each prompt based on correctness, readability, and maintainability.\n"
      ]
    },
    {
      "cell_type": "markdown",
      "metadata": {
        "id": "868e9fcd"
      },
      "source": [
        "**Reasoning**:\n",
        "Analyze and compare the code generated for each prompt based on correctness, readability, and maintainability.\n",
        "\n"
      ]
    },
    {
      "cell_type": "code",
      "metadata": {
        "colab": {
          "base_uri": "https://localhost:8080/"
        },
        "id": "7848063b",
        "outputId": "7c10b4b2-4c3c-46c7-db46-0fc39e32ce25"
      },
      "source": [
        "# Analysis and Comparison\n",
        "\n",
        "# 1. Vague Prompt Code\n",
        "# Correctness:\n",
        "# - Correct for the assumed conversion (Celsius to Fahrenheit).\n",
        "# - Incorrect/Incomplete as a general temperature converter as it only handles one direction.\n",
        "# - Lacks input validation (e.g., non-numeric input would cause an error).\n",
        "# - Does not handle Fahrenheit to Celsius conversion.\n",
        "\n",
        "# Readability:\n",
        "# - Simple function name and formula.\n",
        "# - Basic docstring is present but not very detailed.\n",
        "# - Example usage is clear.\n",
        "\n",
        "# Maintainability:\n",
        "# - Poor maintainability for the broader task of converting between C and F,\n",
        "#   as it would require significant modification to add the Fahrenheit to Celsius conversion\n",
        "#   and input validation.\n",
        "# - Easy to understand for the single specific task it performs (C to F).\n",
        "\n",
        "print(\"--- Analysis of Vague Prompt Code ---\")\n",
        "print(\"Correctness: Limited (only C to F, no validation)\")\n",
        "print(\"Readability: Simple, basic docstring\")\n",
        "print(\"Maintainability: Poor for a general converter\")\n",
        "print(\"-\" * 30)\n",
        "\n",
        "# 2. Moderately Clear Prompt Code\n",
        "# Correctness:\n",
        "# - Correctly implements Celsius to Fahrenheit conversion as requested.\n",
        "# - Handles numeric input (int and float) correctly.\n",
        "# - Does not include any input validation beyond the nature of the calculation.\n",
        "# - Does not handle Fahrenheit to Celsius conversion (not requested by the prompt).\n",
        "\n",
        "# Readability:\n",
        "# - Clear function name (`celsius_to_fahrenheit`) specific to the task.\n",
        "# - Good docstring explaining args, return value, and purpose.\n",
        "# - Example usage is clear.\n",
        "\n",
        "# Maintainability:\n",
        "# - Good maintainability for the specific task of C to F conversion.\n",
        "# - Poor maintainability if the requirement expands to include F to C conversion,\n",
        "#   as a new function or significant modification would be needed.\n",
        "# - Lack of input validation makes it less robust.\n",
        "\n",
        "print(\"--- Analysis of Moderately Clear Prompt Code ---\")\n",
        "print(\"Correctness: Correct for C to F, no validation\")\n",
        "print(\"Readability: Clear function name, good docstring\")\n",
        "print(\"Maintainability: Good for C to F only, poor for general conversion\")\n",
        "print(\"-\" * 30)\n",
        "\n",
        "# 3. Highly Specific Prompt Code\n",
        "# Correctness:\n",
        "# - Correctly implements conversion in both directions (C to F and F to C).\n",
        "# - Correctly handles numeric input (int and float).\n",
        "# - Correctly implements input validation for both value type and unit.\n",
        "# - Correctly rounds the output to 2 decimal places.\n",
        "# - Handles edge cases like invalid input gracefully by returning error messages.\n",
        "\n",
        "# Readability:\n",
        "# - Clear function name (`convert_temperature`) indicating its general purpose.\n",
        "# - Comprehensive docstring covering args, return value, purpose, and error handling.\n",
        "# - Logical flow with input validation at the beginning.\n",
        "# - Use of `.upper()` makes unit comparison robust to case.\n",
        "# - Clear variable names.\n",
        "\n",
        "# Maintainability:\n",
        "# - Excellent maintainability. The function is well-structured, handles multiple cases,\n",
        "#   includes validation, and is well-documented.\n",
        "# - Easy to extend if more units were needed (though the current structure\n",
        "#   would require adding more `elif` conditions).\n",
        "# - Error handling makes it more robust to unexpected inputs.\n",
        "\n",
        "print(\"--- Analysis of Highly Specific Prompt Code ---\")\n",
        "print(\"Correctness: Highly correct (both directions, validation, rounding)\")\n",
        "print(\"Readability: Clear, comprehensive docstring, logical structure\")\n",
        "print(\"Maintainability: Excellent (robust, well-documented, easy to understand)\")\n",
        "print(\"-\" * 30)\n",
        "\n",
        "# Overall Comparison:\n",
        "print(\"\\n--- Overall Comparison ---\")\n",
        "print(\"Specificity of the prompt directly correlates with code quality.\")\n",
        "print(\"\\nVague Prompt:\")\n",
        "print(\"- Produced basic, incomplete code assuming a common conversion.\")\n",
        "print(\"- Lacked validation and flexibility.\")\n",
        "\n",
        "print(\"\\nModerately Clear Prompt:\")\n",
        "print(\"- Produced correct code for the specific conversion requested.\")\n",
        "print(\"- Included a better docstring but still lacked validation and broader functionality.\")\n",
        "\n",
        "print(\"\\nHighly Specific Prompt:\")\n",
        "print(\"- Produced robust, flexible, and well-documented code.\")\n",
        "print(\"- Included essential features like input validation, handling different cases, and formatting.\")\n",
        "print(\"- This code is significantly more correct, readable, and maintainable.\")\n",
        "print(\"\\nConclusion: Providing a highly specific prompt leads to significantly better AI-generated code quality.\")"
      ],
      "execution_count": 9,
      "outputs": [
        {
          "output_type": "stream",
          "name": "stdout",
          "text": [
            "--- Analysis of Vague Prompt Code ---\n",
            "Correctness: Limited (only C to F, no validation)\n",
            "Readability: Simple, basic docstring\n",
            "Maintainability: Poor for a general converter\n",
            "------------------------------\n",
            "--- Analysis of Moderately Clear Prompt Code ---\n",
            "Correctness: Correct for C to F, no validation\n",
            "Readability: Clear function name, good docstring\n",
            "Maintainability: Good for C to F only, poor for general conversion\n",
            "------------------------------\n",
            "--- Analysis of Highly Specific Prompt Code ---\n",
            "Correctness: Highly correct (both directions, validation, rounding)\n",
            "Readability: Clear, comprehensive docstring, logical structure\n",
            "Maintainability: Excellent (robust, well-documented, easy to understand)\n",
            "------------------------------\n",
            "\n",
            "--- Overall Comparison ---\n",
            "Specificity of the prompt directly correlates with code quality.\n",
            "\n",
            "Vague Prompt:\n",
            "- Produced basic, incomplete code assuming a common conversion.\n",
            "- Lacked validation and flexibility.\n",
            "\n",
            "Moderately Clear Prompt:\n",
            "- Produced correct code for the specific conversion requested.\n",
            "- Included a better docstring but still lacked validation and broader functionality.\n",
            "\n",
            "Highly Specific Prompt:\n",
            "- Produced robust, flexible, and well-documented code.\n",
            "- Included essential features like input validation, handling different cases, and formatting.\n",
            "- This code is significantly more correct, readable, and maintainable.\n",
            "\n",
            "Conclusion: Providing a highly specific prompt leads to significantly better AI-generated code quality.\n"
          ]
        }
      ]
    },
    {
      "cell_type": "markdown",
      "metadata": {
        "id": "211b412e"
      },
      "source": [
        "## Summary:\n",
        "\n",
        "### Data Analysis Key Findings\n",
        "\n",
        "*   **Vague Prompt Code:** This code correctly performed Celsius to Fahrenheit conversion but was limited. It lacked input validation and the ability to convert Fahrenheit to Celsius, making it incomplete for general temperature conversion. Readability was simple with a basic docstring, but maintainability was poor for a broader scope.\n",
        "*   **Moderately Clear Prompt Code:** This code accurately performed the requested Celsius to Fahrenheit conversion and had a clearer function name and a better docstring than the vague prompt version. However, it still lacked input validation and could not perform Fahrenheit to Celsius conversion, making it only suitable for the specific task requested.\n",
        "*   **Highly Specific Prompt Code:** This code successfully implemented a robust function that handles both Celsius to Fahrenheit and Fahrenheit to Celsius conversions. It included essential features like input validation (for both value type and unit), handled floating-point numbers, rounded results to 2 decimal places, and featured a comprehensive docstring and examples. This code was highly correct, readable, and maintainable.\n",
        "*   **Prompt Specificity Impact:** The level of detail in the prompt directly correlated with the quality of the generated code. Vague prompts led to basic, incomplete code, moderately clear prompts yielded code correct for a specific task but still limited, while highly specific prompts resulted in comprehensive, robust, and well-documented code.\n",
        "\n",
        "### Insights or Next Steps\n",
        "\n",
        "*   When generating code using AI, providing highly specific and detailed prompts significantly improves the correctness, readability, and maintainability of the output.\n",
        "*   For complex tasks, breaking them down into smaller, well-defined requirements within a specific prompt is crucial for obtaining high-quality AI-generated code.\n"
      ]
    },
    {
      "cell_type": "markdown",
      "source": [
        "# END"
      ],
      "metadata": {
        "id": "svEPud6LSL2H"
      }
    }
  ]
}