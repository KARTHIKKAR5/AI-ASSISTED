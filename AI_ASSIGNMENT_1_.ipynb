{
  "nbformat": 4,
  "nbformat_minor": 0,
  "metadata": {
    "colab": {
      "provenance": [],
      "authorship_tag": "ABX9TyPVsUQbuhM+FGB0X1YWfBsi",
      "include_colab_link": true
    },
    "kernelspec": {
      "name": "python3",
      "display_name": "Python 3"
    },
    "language_info": {
      "name": "python"
    }
  },
  "cells": [
    {
      "cell_type": "markdown",
      "metadata": {
        "id": "view-in-github",
        "colab_type": "text"
      },
      "source": [
        "<a href=\"https://colab.research.google.com/github/KARTHIKKAR5/AI-ASSISTED/blob/main/AI_ASSIGNMENT_1_.ipynb\" target=\"_parent\"><img src=\"https://colab.research.google.com/assets/colab-badge.svg\" alt=\"Open In Colab\"/></a>"
      ]
    },
    {
      "cell_type": "markdown",
      "source": [
        "task 1 Use Gemini in Colab to write a function that filters out all negative numbers from a\n",
        "given list."
      ],
      "metadata": {
        "id": "0FH8Isi5QLp1"
      }
    },
    {
      "cell_type": "markdown",
      "metadata": {
        "id": "0f840524"
      },
      "source": [
        "Here is a function that filters out all negative numbers from a given list using Gemini in Colab."
      ]
    },
    {
      "cell_type": "code",
      "metadata": {
        "colab": {
          "base_uri": "https://localhost:8080/"
        },
        "id": "f0ce4825",
        "outputId": "9864f294-6c7f-48e7-c5ad-d8d4fb3823e6"
      },
      "source": [
        "def filter_negative_numbers(numbers):\n",
        "  \"\"\"Filters out all negative numbers from a given list.\"\"\"\n",
        "  return [number for number in numbers if number >= 0]\n",
        "\n",
        "# Example usage:\n",
        "my_list = [1, -2, 3, -4, 5, 0, -6]\n",
        "filtered_list = filter_negative_numbers(my_list)\n",
        "\n",
        "print(\"Original list:\", my_list)\n",
        "print(\"Filtered list:\", filtered_list)"
      ],
      "execution_count": 3,
      "outputs": [
        {
          "output_type": "stream",
          "name": "stdout",
          "text": [
            "Original list: [1, -2, 3, -4, 5, 0, -6]\n",
            "Filtered list: [1, 3, 5, 0]\n"
          ]
        }
      ]
    },
    {
      "cell_type": "markdown",
      "source": [
        "he code in cell d18898a defines a function called filter_negative_numbers that takes a list of numbers as input and returns a new list containing only the non-negative numbers from the input list. It uses a list comprehension to efficiently iterate through the input list and include only those numbers that are greater than or equal to 0 in the new list."
      ],
      "metadata": {
        "id": "2UsYE9KhSdY-"
      }
    },
    {
      "cell_type": "markdown",
      "source": [
        "Task Description#2\n",
        "● Ask Gemini to generate code that reads a text file and counts the frequency of each\n",
        "word. Then ask it to explain the code"
      ],
      "metadata": {
        "id": "ccsOKj4MSkCU"
      }
    },
    {
      "cell_type": "code",
      "source": [],
      "metadata": {
        "id": "4hW0nGFaSyZy"
      },
      "execution_count": null,
      "outputs": []
    },
    {
      "cell_type": "markdown",
      "metadata": {
        "id": "1b73562d"
      },
      "source": [
        "# Task\n",
        "Generate Python code that reads a text file and counts the frequency of each word, and then explain the code."
      ]
    },
    {
      "cell_type": "markdown",
      "metadata": {
        "id": "444d8b5f"
      },
      "source": [
        "## Generate code\n",
        "\n",
        "### Subtask:\n",
        "Generate Python code that reads a text file and counts the frequency of each word.\n"
      ]
    },
    {
      "cell_type": "markdown",
      "metadata": {
        "id": "cb62c3da"
      },
      "source": [
        "**Reasoning**:\n",
        "The subtask requires generating Python code to read a text file, count word frequencies, and print the results. This can be achieved in a single code block.\n",
        "\n"
      ]
    },
    {
      "cell_type": "code",
      "metadata": {
        "colab": {
          "base_uri": "https://localhost:8080/"
        },
        "id": "bd94668b",
        "outputId": "b86b9814-418f-4fcf-fdfa-9f738c3866be"
      },
      "source": [
        "import re\n",
        "from collections import Counter\n",
        "\n",
        "# Create a dummy text file for testing\n",
        "with open(\"sample.txt\", \"w\") as f:\n",
        "    f.write(\"This is a sample text file. This file is for testing purposes.\")\n",
        "\n",
        "# Read the text file\n",
        "with open(\"sample.txt\", \"r\") as f:\n",
        "    text = f.read()\n",
        "\n",
        "# Convert to lowercase and remove punctuation\n",
        "text = text.lower()\n",
        "words = re.findall(r'\\b\\w+\\b', text)\n",
        "\n",
        "# Count word frequencies\n",
        "word_counts = Counter(words)\n",
        "\n",
        "# Print the word frequencies\n",
        "print(\"Word frequencies:\")\n",
        "for word, count in word_counts.items():\n",
        "    print(f\"{word}: {count}\")"
      ],
      "execution_count": 4,
      "outputs": [
        {
          "output_type": "stream",
          "name": "stdout",
          "text": [
            "Word frequencies:\n",
            "this: 2\n",
            "is: 2\n",
            "a: 1\n",
            "sample: 1\n",
            "text: 1\n",
            "file: 2\n",
            "for: 1\n",
            "testing: 1\n",
            "purposes: 1\n"
          ]
        }
      ]
    },
    {
      "cell_type": "markdown",
      "metadata": {
        "id": "d6210927"
      },
      "source": [
        "## Explain code\n",
        "\n",
        "### Subtask:\n",
        "Provide a natural language explanation of the generated code.\n"
      ]
    },
    {
      "cell_type": "markdown",
      "metadata": {
        "id": "bafb3d8f"
      },
      "source": [
        "**Reasoning**:\n",
        "Explain the generated code step by step as requested in the instructions.\n",
        "\n"
      ]
    },
    {
      "cell_type": "code",
      "metadata": {
        "id": "a7047dd1"
      },
      "source": [
        "# Explanation of the code:\n",
        "\n",
        "# 1. Import statements:\n",
        "#    - `import re`: Imports the regular expression module, used for pattern matching in strings (specifically for finding words).\n",
        "#    - `from collections import Counter`: Imports the Counter class from the collections module. Counter is a specialized dictionary subclass for counting hashable objects.\n",
        "\n",
        "# 2. File handling:\n",
        "#    - `with open(\"sample.txt\", \"w\") as f:`: This block creates a file named \"sample.txt\" in write mode (`\"w\"`). The `with` statement ensures the file is automatically closed even if errors occur. It writes a sample sentence to this file.\n",
        "#    - `with open(\"sample.txt\", \"r\") as f:`: This block opens the previously created \"sample.txt\" file in read mode (`\"r\"`).\n",
        "#    - `text = f.read()`: Reads the entire content of the file and stores it in the `text` variable as a single string.\n",
        "\n",
        "# 3. Text processing:\n",
        "#    - `text = text.lower()`: Converts the entire `text` string to lowercase. This ensures that words like \"This\" and \"this\" are treated as the same word for counting.\n",
        "#    - `words = re.findall(r'\\b\\w+\\b', text)`: This line uses a regular expression to find all words in the lowercase text.\n",
        "#        - `r'\\b\\w+\\b'`: This is the regular expression pattern.\n",
        "#            - `\\b`: Matches a word boundary (the position between a word character and a non-word character, or the beginning/end of the string). This helps to match whole words and avoid partial matches.\n",
        "#            - `\\w+`: Matches one or more word characters (alphanumeric characters and underscore).\n",
        "#        - `re.findall()`: Returns a list of all non-overlapping matches in the string. In this case, it returns a list of all the words found in the text.\n",
        "\n",
        "# 4. Word counting:\n",
        "#    - `word_counts = Counter(words)`: This is the core of the word counting. The `Counter` class takes an iterable (the list of `words`) and returns a dictionary-like object where keys are the unique words and values are their frequencies (counts).\n",
        "\n",
        "# 5. Printing results:\n",
        "#    - `print(\"Word frequencies:\")`: Prints a header for the output.\n",
        "#    - `for word, count in word_counts.items():`: Iterates through the items (key-value pairs) in the `word_counts` Counter object. In each iteration, `word` is the word and `count` is its frequency.\n",
        "#    - `print(f\"{word}: {count}\")`: Prints each word and its corresponding count in a formatted string."
      ],
      "execution_count": 5,
      "outputs": []
    },
    {
      "cell_type": "markdown",
      "metadata": {
        "id": "299fedc9"
      },
      "source": [
        "## Summary:\n",
        "\n",
        "### Data Analysis Key Findings\n",
        "\n",
        "*   The provided Python code successfully reads a text file, converts its content to lowercase, removes punctuation using regular expressions (`re.findall` with `\\b\\w+\\b`), and counts the frequency of each word using `collections.Counter`.\n",
        "*   A sample text file (\"sample.txt\") containing the sentence \"This is a sample text file. This file is for testing purposes.\" was created and used for testing the code.\n",
        "*   The output of the code shows the frequency of each unique word in the sample text (e.g., \"this\": 2, \"is\": 2, \"a\": 1, etc.).\n",
        "*   A detailed natural language explanation of the Python code was provided, covering the purpose of imports (`re`, `Counter`), file handling, text processing steps (lowercase conversion and word extraction using regex), word counting with `Counter`, and printing the results.\n",
        "\n",
        "### Insights or Next Steps\n",
        "\n",
        "*   The current approach handles basic punctuation removal. For more complex text analysis, consider expanding the regex or using natural language processing libraries (like NLTK or spaCy) for tokenization and more sophisticated text cleaning.\n",
        "*   The code currently prints all word frequencies. A potential next step could be to modify the code to only print the top N most frequent words.\n"
      ]
    },
    {
      "cell_type": "markdown",
      "source": [
        "TASK 3 Task Description#3\n",
        "● Use Cursor AI to generate a Python class called Book with attributes title, author, and\n",
        "a method summary() that prints the details"
      ],
      "metadata": {
        "id": "4psZash4TKTX"
      }
    },
    {
      "cell_type": "code",
      "source": [],
      "metadata": {
        "id": "GHuOzwKMTVkJ"
      },
      "execution_count": null,
      "outputs": []
    },
    {
      "cell_type": "markdown",
      "metadata": {
        "id": "c9be4330"
      },
      "source": [
        "Here is the Python class `Book` as requested."
      ]
    },
    {
      "cell_type": "code",
      "metadata": {
        "colab": {
          "base_uri": "https://localhost:8080/"
        },
        "id": "235e0c61",
        "outputId": "77388dd6-cf0f-4290-f6d2-dd59e28242bc"
      },
      "source": [
        "class Book:\n",
        "    \"\"\"Represents a book with title and author.\"\"\"\n",
        "\n",
        "    def __init__(self, title, author):\n",
        "        \"\"\"Initializes a new Book instance.\n",
        "\n",
        "        Args:\n",
        "            title (str): The title of the book.\n",
        "            author (str): The author of the book.\n",
        "        \"\"\"\n",
        "        self.title = title\n",
        "        self.author = author\n",
        "\n",
        "    def summary(self):\n",
        "        \"\"\"Prints the title and author of the book.\"\"\"\n",
        "        print(f\"Book Title: {self.title}\")\n",
        "        print(f\"Book Author: {self.author}\")\n",
        "\n",
        "# Example usage:\n",
        "my_book = Book(\"The Hitchhiker's Guide to the Galaxy\", \"Douglas Adams\")\n",
        "my_book.summary()"
      ],
      "execution_count": 6,
      "outputs": [
        {
          "output_type": "stream",
          "name": "stdout",
          "text": [
            "Book Title: The Hitchhiker's Guide to the Galaxy\n",
            "Book Author: Douglas Adams\n"
          ]
        }
      ]
    },
    {
      "cell_type": "markdown",
      "source": [
        "Explanation This code creates a \"Book\" blueprint. Each book has a title and an author. The code then makes a specific book and prints its title and author.\n",
        "\n"
      ],
      "metadata": {
        "id": "Ex9_AckLTi8o"
      }
    },
    {
      "cell_type": "markdown",
      "source": [
        "Task Description TASK 4\n",
        "● Ask Gemini to write a program that checks whether a number is an Armstrong\n",
        "number, and then modify it using Cursor AI to improve performance or structure"
      ],
      "metadata": {
        "id": "iUIkTVQkUCQ4"
      }
    },
    {
      "cell_type": "code",
      "source": [],
      "metadata": {
        "id": "I44OWdK7UKTC"
      },
      "execution_count": null,
      "outputs": []
    },
    {
      "cell_type": "markdown",
      "metadata": {
        "id": "5b129774"
      },
      "source": [
        "# Task\n",
        "Generate Python code that checks whether a number is an Armstrong number. Explain the code. Modify the code to improve performance or structure and explain the modifications."
      ]
    },
    {
      "cell_type": "markdown",
      "metadata": {
        "id": "37c518e8"
      },
      "source": [
        "## Generate armstrong number checker\n",
        "\n",
        "### Subtask:\n",
        "Generate Python code that checks whether a number is an Armstrong number.\n"
      ]
    },
    {
      "cell_type": "markdown",
      "metadata": {
        "id": "392f7e83"
      },
      "source": [
        "**Reasoning**:\n",
        "The subtask requires generating Python code to check if a number is an Armstrong number, following the specified steps. This can be achieved in a single code block.\n",
        "\n"
      ]
    },
    {
      "cell_type": "code",
      "metadata": {
        "colab": {
          "base_uri": "https://localhost:8080/"
        },
        "id": "8559bdd0",
        "outputId": "8355019e-a2e1-4e72-f981-19c8ca54f793"
      },
      "source": [
        "def is_armstrong_number(number):\n",
        "  \"\"\"Checks if a number is an Armstrong number.\"\"\"\n",
        "  # Convert the number to a string to easily access its digits\n",
        "  num_str = str(number)\n",
        "  # Calculate the number of digits\n",
        "  num_digits = len(num_str)\n",
        "  # Initialize the sum\n",
        "  armstrong_sum = 0\n",
        "  # Iterate through each digit, convert back to integer, and calculate sum\n",
        "  for digit_char in num_str:\n",
        "    digit = int(digit_char)\n",
        "    armstrong_sum += digit ** num_digits\n",
        "  # Compare the sum with the original number\n",
        "  return armstrong_sum == number\n",
        "\n",
        "# Example usage:\n",
        "print(f\"Is 153 an Armstrong number? {is_armstrong_number(153)}\")\n",
        "print(f\"Is 9 an Armstrong number? {is_armstrong_number(9)}\")\n",
        "print(f\"Is 10 an Armstrong number? {is_armstrong_number(10)}\")\n",
        "print(f\"Is 9474 an Armstrong number? {is_armstrong_number(9474)}\")\n",
        "print(f\"Is 9475 an Armstrong number? {is_armstrong_number(9475)}\")"
      ],
      "execution_count": 7,
      "outputs": [
        {
          "output_type": "stream",
          "name": "stdout",
          "text": [
            "Is 153 an Armstrong number? True\n",
            "Is 9 an Armstrong number? True\n",
            "Is 10 an Armstrong number? False\n",
            "Is 9474 an Armstrong number? True\n",
            "Is 9475 an Armstrong number? False\n"
          ]
        }
      ]
    },
    {
      "cell_type": "markdown",
      "metadata": {
        "id": "c5b74ded"
      },
      "source": [
        "## Explain code\n",
        "\n",
        "### Subtask:\n",
        "Provide a natural language explanation of the generated code.\n"
      ]
    },
    {
      "cell_type": "markdown",
      "metadata": {
        "id": "ccec4ad1"
      },
      "source": [
        "**Reasoning**:\n",
        "Explain the generated code step by step as requested in the instructions.\n",
        "\n"
      ]
    },
    {
      "cell_type": "code",
      "metadata": {
        "id": "20297970"
      },
      "source": [
        "# Explanation of the code:\n",
        "\n",
        "# 1. Function Definition:\n",
        "#    - `def is_armstrong_number(number):`: This defines a function named `is_armstrong_number` that takes one argument, `number`. This function will determine if the input `number` is an Armstrong number.\n",
        "\n",
        "# 2. Convert to String and Get Number of Digits:\n",
        "#    - `num_str = str(number)`: Converts the input `number` into a string (`num_str`). This is done so we can easily access each digit individually.\n",
        "#    - `num_digits = len(num_str)`: Calculates the number of digits in the original number by finding the length of the string representation (`num_str`).\n",
        "\n",
        "# 3. Calculate the Sum of Digits Raised to the Power of the Number of Digits:\n",
        "#    - `armstrong_sum = 0`: Initializes a variable `armstrong_sum` to 0. This variable will store the sum of the digits raised to the power of the number of digits.\n",
        "#    - `for digit_char in num_str:`: This loop iterates through each character in the `num_str` (which represents each digit of the original number).\n",
        "#    - `digit = int(digit_char)`: Converts the current digit character back into an integer.\n",
        "#    - `armstrong_sum += digit ** num_digits`: Raises the current digit to the power of the total number of digits (`num_digits`) and adds the result to `armstrong_sum`.\n",
        "\n",
        "# 4. Compare and Return Result:\n",
        "#    - `return armstrong_sum == number`: After iterating through all the digits and calculating the `armstrong_sum`, this line compares the calculated sum with the original input `number`. If they are equal, the function returns `True` (indicating it's an Armstrong number); otherwise, it returns `False`.\n",
        "\n",
        "# 5. Example Usage:\n",
        "#    - The lines starting with `print(f\"Is ...\")` demonstrate how to use the `is_armstrong_number` function. They call the function with different numbers (153, 9, 10, 9474, and 9475) and print the result (True or False) along with a descriptive message."
      ],
      "execution_count": 8,
      "outputs": []
    },
    {
      "cell_type": "markdown",
      "metadata": {
        "id": "847fb3f7"
      },
      "source": [
        "## Modify code\n",
        "\n",
        "### Subtask:\n",
        "Modify the generated code to improve performance or structure.\n"
      ]
    },
    {
      "cell_type": "markdown",
      "metadata": {
        "id": "0a6366c6"
      },
      "source": [
        "**Reasoning**:\n",
        "The subtask is to modify the existing code to improve performance or structure. The current code converts the number to a string to get the number of digits and iterate through digits. This can be improved by using mathematical operations to extract digits, which can be more efficient for large numbers and avoids string conversions. I will refactor the `is_armstrong_number` function to achieve this.\n",
        "\n"
      ]
    },
    {
      "cell_type": "code",
      "metadata": {
        "colab": {
          "base_uri": "https://localhost:8080/"
        },
        "id": "ea22693c",
        "outputId": "62deb570-af4d-4b27-c3bd-610dab8e5f73"
      },
      "source": [
        "def is_armstrong_number(number):\n",
        "    \"\"\"Checks if a number is an Armstrong number using mathematical operations.\"\"\"\n",
        "    if number < 0:\n",
        "        return False  # Armstrong numbers are typically non-negative\n",
        "\n",
        "    original_number = number\n",
        "    num_digits = 0\n",
        "    temp = number\n",
        "    while temp > 0:\n",
        "        num_digits += 1\n",
        "        temp //= 10\n",
        "\n",
        "    armstrong_sum = 0\n",
        "    temp = number\n",
        "    while temp > 0:\n",
        "        digit = temp % 10\n",
        "        armstrong_sum += digit ** num_digits\n",
        "        temp //= 10\n",
        "\n",
        "    return armstrong_sum == original_number\n",
        "\n",
        "# Example usage:\n",
        "print(f\"Is 153 an Armstrong number? {is_armstrong_number(153)}\")\n",
        "print(f\"Is 9 an Armstrong number? {is_armstrong_number(9)}\")\n",
        "print(f\"Is 10 an Armstrong number? {is_armstrong_number(10)}\")\n",
        "print(f\"Is 9474 an Armstrong number? {is_armstrong_number(9474)}\")\n",
        "print(f\"Is 9475 an Armstrong number? {is_armstrong_number(9475)}\")"
      ],
      "execution_count": 9,
      "outputs": [
        {
          "output_type": "stream",
          "name": "stdout",
          "text": [
            "Is 153 an Armstrong number? True\n",
            "Is 9 an Armstrong number? True\n",
            "Is 10 an Armstrong number? False\n",
            "Is 9474 an Armstrong number? True\n",
            "Is 9475 an Armstrong number? False\n"
          ]
        }
      ]
    },
    {
      "cell_type": "markdown",
      "metadata": {
        "id": "348a3b0d"
      },
      "source": [
        "## Explain modifications\n",
        "\n",
        "### Subtask:\n",
        "Explain the changes made to the code and how they improve performance or structure.\n"
      ]
    },
    {
      "cell_type": "markdown",
      "metadata": {
        "id": "6af63252"
      },
      "source": [
        "**Reasoning**:\n",
        "Provide a natural language explanation of the modified code, highlighting the changes and improvements.\n",
        "\n"
      ]
    },
    {
      "cell_type": "code",
      "metadata": {
        "id": "5df92a79"
      },
      "source": [
        "# Explanation of the modified code:\n",
        "\n",
        "# The modified `is_armstrong_number` function checks if a number is an Armstrong number using mathematical operations instead of converting the number to a string. This approach generally offers better performance, especially for large numbers, as it avoids the overhead associated with string conversions and manipulations.\n",
        "\n",
        "# Here's a breakdown of the changes and how they improve the code:\n",
        "\n",
        "# 1. Handling Negative Numbers:\n",
        "#    - `if number < 0: return False`: An initial check is added to handle negative numbers. Armstrong numbers are typically defined for non-negative integers, so the function immediately returns `False` for any negative input.\n",
        "\n",
        "# 2. Determining the Number of Digits using Mathematical Operations:\n",
        "#    - `original_number = number`: Stores the original number in a separate variable to be used later for comparison.\n",
        "#    - `num_digits = 0`: Initializes a counter for the number of digits.\n",
        "#    - `temp = number`: Creates a temporary variable `temp` to work with, avoiding modification of the original `number`.\n",
        "#    - `while temp > 0:`: This loop continues as long as `temp` is greater than 0.\n",
        "#    - `num_digits += 1`: Increments the digit counter in each iteration.\n",
        "#    - `temp //= 10`: Performs integer division of `temp` by 10. This effectively removes the last digit of the number in each iteration. The loop continues until all digits have been \"removed\", and the `num_digits` variable will hold the total count of digits. This replaces the `len(str(number))` operation from the previous version.\n",
        "\n",
        "# 3. Calculating the Sum of Digits Raised to the Power of the Number of Digits using Mathematical Operations:\n",
        "#    - `armstrong_sum = 0`: Initializes the sum variable.\n",
        "#    - `temp = number`: Resets the `temp` variable back to the original number to extract digits again.\n",
        "#    - `while temp > 0:`: This loop iterates through the digits again.\n",
        "#    - `digit = temp % 10`: Uses the modulo operator (`%`) to get the last digit of the `temp` number.\n",
        "#    - `armstrong_sum += digit ** num_digits`: Raises the extracted `digit` to the power of `num_digits` and adds it to the `armstrong_sum`.\n",
        "#    - `temp //= 10`: Performs integer division to remove the last digit from `temp`, preparing for the next iteration. This replaces the iteration over the string characters and converting each back to an integer.\n",
        "\n",
        "# 4. Comparison and Return:\n",
        "#    - `return armstrong_sum == original_number`: Compares the calculated `armstrong_sum` with the stored `original_number` to determine if it's an Armstrong number.\n",
        "\n",
        "# Performance Improvement:\n",
        "# The primary performance improvement comes from avoiding the overhead of converting the number to a string and then back to integers for each digit. Mathematical operations (integer division and modulo) are generally faster and more efficient for digit manipulation, especially when dealing with large numbers.\n",
        "\n",
        "# Structural Improvements:\n",
        "# The code's structure is slightly different due to the two separate loops: one to count the digits and another to calculate the sum. While the previous version used a single loop over the string, this mathematical approach requires these distinct steps. However, this separation can be considered a structural improvement in terms of clarity, as it explicitly separates the digit counting and the sum calculation processes."
      ],
      "execution_count": 10,
      "outputs": []
    },
    {
      "cell_type": "markdown",
      "metadata": {
        "id": "cafd2fbe"
      },
      "source": [
        "## Summary:\n",
        "\n",
        "### Data Analysis Key Findings\n",
        "\n",
        "*   The initial implementation of the `is_armstrong_number` function converted the input number to a string to determine the number of digits and iterate through them.\n",
        "*   The modified implementation utilizes mathematical operations (integer division `//` and modulo `%`) to count digits and extract them, avoiding string conversions.\n",
        "*   The mathematical approach is generally more performant, especially for larger numbers, as it eliminates the overhead of string manipulations.\n",
        "*   The modified code also includes a check for negative numbers, returning `False` as Armstrong numbers are typically non-negative.\n",
        "\n",
        "### Insights or Next Steps\n",
        "\n",
        "*   The use of mathematical operations for digit manipulation is a more efficient and standard approach for numerical problems compared to string conversion.\n",
        "*   For very large numbers that exceed standard integer limits, alternative approaches like using libraries that handle arbitrary-precision integers might be necessary, though the mathematical approach would still be preferred over string manipulation in such cases.\n"
      ]
    },
    {
      "cell_type": "markdown",
      "source": [
        "Task Description TASK 5\n",
        "● Use both Gemini and Cursor AI to generate code for sorting a list of dictionaries by a\n",
        "specific key (e.g., age)."
      ],
      "metadata": {
        "id": "NSxMwv2IUgrU"
      }
    },
    {
      "cell_type": "code",
      "metadata": {
        "colab": {
          "base_uri": "https://localhost:8080/"
        },
        "id": "b2df8263",
        "outputId": "19f9c3e6-4c2d-4056-f50b-3c039f7b2a66"
      },
      "source": [
        "# Sample list of dictionaries\n",
        "list_of_dicts = [\n",
        "    {\"name\": \"Alice\", \"age\": 30},\n",
        "    {\"name\": \"Bob\", \"age\": 25},\n",
        "    {\"name\": \"Charlie\", \"age\": 35},\n",
        "    {\"name\": \"David\", \"age\": 25},\n",
        "]\n",
        "\n",
        "# Sort the list by the 'age' key\n",
        "# The sorted() function returns a new sorted list\n",
        "# The key argument specifies a function to be called on each list element prior to making comparisons\n",
        "# lambda x: x['age'] is an anonymous function that returns the value associated with the 'age' key for each dictionary x\n",
        "\n",
        "sorted_list = sorted(list_of_dicts, key=lambda x: x['age'])\n",
        "\n",
        "print(\"Original list:\", list_of_dicts)\n",
        "print(\"Sorted list by age:\", sorted_list)\n",
        "\n",
        "# You can also sort by other keys, for example, by 'name'\n",
        "sorted_list_by_name = sorted(list_of_dicts, key=lambda x: x['name'])\n",
        "print(\"Sorted list by name:\", sorted_list_by_name)\n",
        "\n",
        "# To sort in descending order, use the reverse=True argument\n",
        "sorted_list_desc = sorted(list_of_dicts, key=lambda x: x['age'], reverse=True)\n",
        "print(\"Sorted list by age (descending):\", sorted_list_desc)\n",
        "\n",
        "# To sort by multiple keys (e.g., age then name for ties)\n",
        "sorted_list_multi_key = sorted(list_of_dicts, key=lambda x: (x['age'], x['name']))\n",
        "print(\"Sorted list by age then name:\", sorted_list_multi_key)"
      ],
      "execution_count": 11,
      "outputs": [
        {
          "output_type": "stream",
          "name": "stdout",
          "text": [
            "Original list: [{'name': 'Alice', 'age': 30}, {'name': 'Bob', 'age': 25}, {'name': 'Charlie', 'age': 35}, {'name': 'David', 'age': 25}]\n",
            "Sorted list by age: [{'name': 'Bob', 'age': 25}, {'name': 'David', 'age': 25}, {'name': 'Alice', 'age': 30}, {'name': 'Charlie', 'age': 35}]\n",
            "Sorted list by name: [{'name': 'Alice', 'age': 30}, {'name': 'Bob', 'age': 25}, {'name': 'Charlie', 'age': 35}, {'name': 'David', 'age': 25}]\n",
            "Sorted list by age (descending): [{'name': 'Charlie', 'age': 35}, {'name': 'Alice', 'age': 30}, {'name': 'Bob', 'age': 25}, {'name': 'David', 'age': 25}]\n",
            "Sorted list by age then name: [{'name': 'Bob', 'age': 25}, {'name': 'David', 'age': 25}, {'name': 'Alice', 'age': 30}, {'name': 'Charlie', 'age': 35}]\n"
          ]
        }
      ]
    },
    {
      "cell_type": "markdown",
      "source": [],
      "metadata": {
        "id": "if_Eqn-QU6_K"
      }
    },
    {
      "cell_type": "markdown",
      "source": [
        " EXPLANATION OF TASK 5 magine you have a list of cards, and on each card is information about a person (their name and age).\n",
        "\n",
        "The list_of_dicts is like your stack of cards, where each card is represented by {} (a dictionary) with \"name\" and \"age\" on it.\n",
        "The sorted() part is like saying \"arrange these cards in order\".\n",
        "key=lambda x: x['age'] is the important part. It tells sorted() how to arrange the cards. lambda x: x['age'] is a little instruction that says \"look at the 'age' on each card (x) and use that number to decide the order.\"\n",
        "So, sorted(list_of_dicts, key=lambda x: x['age']) means \"arrange the list of cards based on the age written on each card.\"\n",
        "The rest of the code shows you:\n",
        "\n",
        "How to sort by name instead of age (key=lambda x: x['name']).\n",
        "How to sort from oldest to youngest (reverse=True).\n",
        "How to sort first by age, and if two people have the same age, then sort them by name (key=lambda x: (x['age'], x['name']))."
      ],
      "metadata": {
        "id": "4mW8B83jVJ8L"
      }
    },
    {
      "cell_type": "markdown",
      "source": [
        "# END"
      ],
      "metadata": {
        "id": "Gih7Xe4hVPzC"
      }
    }
  ]
}